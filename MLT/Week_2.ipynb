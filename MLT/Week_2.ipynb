{
 "cells": [
  {
   "cell_type": "code",
   "execution_count": 1,
   "metadata": {},
   "outputs": [],
   "source": [
    "from IPython.display import display, Math, Latex #Imported for rendering of latex\n",
    "\n",
    "import numpy as np\n",
    "\n",
    "# Import for generatring plots\n",
    "import matplotlib.pyplot as plt\n",
    "import seaborn as sns\n",
    "\n",
    "%matplotlib inline"
   ]
  },
  {
   "cell_type": "markdown",
   "metadata": {},
   "source": [
    "### Quick Recap\n",
    "1. Training data contains features and label that is a real number\n",
    "2. Model or inference: $\\bf y=Xw$"
   ]
  },
  {
   "cell_type": "markdown",
   "metadata": {},
   "source": [
    "## C1: Training Data"
   ]
  },
  {
   "cell_type": "code",
   "execution_count": 2,
   "metadata": {},
   "outputs": [],
   "source": [
    "# Create a dataset of 100 examples with a single feature and a label.\n",
    "# For this conversation, we use the following three parameters\n",
    "w1 = 3\n",
    "w0 = 4\n",
    "n = 100\n",
    "\n",
    "x = 10*np.random.randn(n,)\n",
    "\n",
    "# Obtain y = 4 + 3*x + noise. Noise is randomly sampled.\n",
    "y = w0 + w1*x + np.random.randn(n,)"
   ]
  },
  {
   "cell_type": "markdown",
   "metadata": {},
   "source": [
    "Lets examine the shapes of the data for sanity check"
   ]
  },
  {
   "cell_type": "code",
   "execution_count": 3,
   "metadata": {},
   "outputs": [
    {
     "name": "stdout",
     "output_type": "stream",
     "text": [
      "Shape of training data feature matrix: (100,)\n",
      "Shape of label vector: (100,)\n"
     ]
    }
   ],
   "source": [
    "print('Shape of training data feature matrix:', x.shape)\n",
    "print('Shape of label vector:', y.shape)"
   ]
  },
  {
   "cell_type": "markdown",
   "metadata": {},
   "source": [
    "Let's divide the data into training and test set. We will set aside 20% examples for testing."
   ]
  },
  {
   "cell_type": "code",
   "execution_count": 4,
   "metadata": {},
   "outputs": [],
   "source": [
    "from sklearn.model_selection import train_test_split\n",
    "X_train, X_test, y_train, y_test = train_test_split(x, y, test_size=0.2, random_state=42)"
   ]
  },
  {
   "cell_type": "markdown",
   "metadata": {},
   "source": [
    "Let's do a quick sanity check to make sure the sizes of features and labels sets are identical in both training and test sets"
   ]
  },
  {
   "cell_type": "code",
   "execution_count": 5,
   "metadata": {},
   "outputs": [
    {
     "name": "stdout",
     "output_type": "stream",
     "text": [
      "Shape of training feature matrix: (80,)\n",
      "Shape of training label vector: (80,)\n",
      "Shape of test feature matrix: (20,)\n",
      "Shape of test label matrix: (20,)\n"
     ]
    }
   ],
   "source": [
    "print('Shape of training feature matrix:', X_train.shape)\n",
    "print('Shape of training label vector:', y_train.shape)\n",
    "\n",
    "print('Shape of test feature matrix:', X_test.shape)\n",
    "print('Shape of test label matrix:', y_test.shape)"
   ]
  },
  {
   "cell_type": "markdown",
   "metadata": {},
   "source": [
    "Lets quickly check the first few examples and labels"
   ]
  },
  {
   "cell_type": "code",
   "execution_count": 6,
   "metadata": {},
   "outputs": [
    {
     "data": {
      "text/plain": [
       "array([ -3.70840327,  15.43552856,  13.96615884, -17.59543991,\n",
       "        -3.26141924])"
      ]
     },
     "execution_count": 6,
     "metadata": {},
     "output_type": "execute_result"
    }
   ],
   "source": [
    "X_train[:5]"
   ]
  },
  {
   "cell_type": "code",
   "execution_count": 7,
   "metadata": {},
   "outputs": [
    {
     "data": {
      "text/plain": [
       "array([ -8.11853976,  50.80384663,  46.64428716, -51.38042402,\n",
       "        -6.50891188])"
      ]
     },
     "execution_count": 7,
     "metadata": {},
     "output_type": "execute_result"
    }
   ],
   "source": [
    "y_train[:5]"
   ]
  },
  {
   "cell_type": "markdown",
   "metadata": {},
   "source": [
    "Lets visualize the training set"
   ]
  },
  {
   "cell_type": "code",
   "execution_count": 8,
   "metadata": {},
   "outputs": [
    {
     "data": {
      "image/png": "[encoded data removed]",
      "text/plain": [
       "<Figure size 800x800 with 1 Axes>"
      ]
     },
     "metadata": {},
     "output_type": "display_data"
    }
   ],
   "source": [
    "sns.set_style(\"white\")\n",
    "f = plt.figure(figsize=(8, 8))\n",
    "sns.set_context(\"notebook\", font_scale=1.5, rc={'lines.linewidth': 2.5})\n",
    "\n",
    "plt.plot(X_train, y_train, \"b.\")\n",
    "plt.title(\"Data points\")\n",
    "plt.grid(True)\n",
    "plt.xlabel(\"$x_1$\", fontsize=18)\n",
    "plt.ylabel(\"$y$\", rotation=0, fontsize=18)\n",
    "plt.axis([0, 10, 0, 40])\n",
    "\n",
    "plt.show()"
   ]
  },
  {
   "cell_type": "markdown",
   "metadata": {},
   "source": [
    "We have a training set consisting of a single feature so we will fit a simple linear regression model with one feature. It's form is : $y=w_0+w_1x_1$\n",
    "\n",
    "As discussed in the lecture, we will add a special feature $x_0$ and set it to 1. We can create a helper function for that."
   ]
  },
  {
   "cell_type": "code",
   "execution_count": 9,
   "metadata": {},
   "outputs": [],
   "source": [
    "def add_dummy_feature(x):\n",
    "    ''' Adds a dummy feature to the dataset.\n",
    "    Args:\n",
    "        x: Training dataset\n",
    "    Returns:\n",
    "        Training dataset with an addition of dummy feature.\n",
    "    '''\n",
    "    # np.ones(X.shape[0]) create a vector of 1's having the same number of \n",
    "    # rows as number of samples in dataset.\n",
    "    return np.column_stack((np.ones(x.shape[0]),x))"
   ]
  },
  {
   "cell_type": "markdown",
   "metadata": {},
   "source": [
    "Let's write a test case to test this function:\n",
    "\n",
    "For that let's take a two examples and three features. The first example is a feature vector:\n",
    "$$\\textbf{x}_{3\\times1}^{(1)} = \\begin{bmatrix} 3 \\\\ 2 \\\\ 5 \\end{bmatrix}$$\n",
    "\n",
    "And the second example is:\n",
    "$$\\textbf{x}_{3\\times1}^{(2)} = \\begin{bmatrix} 9 \\\\ 4 \\\\ 7 \\end{bmatrix}$$\n",
    "\n",
    "And recall that a feature matrix $\\bf X$  has a shape *(n,m)* corresponding to features of all examples before adding the dummy feature $x_0$.\n",
    "$$\\textbf{X}_{n\\times m} = \\begin{bmatrix} {-(x^{(1)})^T-} \\\\ {-(x^{(2)})^T-} \\\\ . \\\\ . \\\\ . \\\\ {-(x^{(n)})^T-} \\end{bmatrix}$$\n",
    "\n",
    "In our current example, this becomes:\n",
    "$$\\textbf{X}_{2\\times3} = \\begin{bmatrix} {-(x^{(1)})^T-} \\\\ {-(x^{(2)})^T-} \\end{bmatrix}$$\n",
    "\n",
    "\n",
    "The corresponding feature matrix $\\bf X$ appears as follows:\n",
    "$$\\textbf{X}_{2\\times3} = \\begin{bmatrix} 3 & 2 & 5 \\\\ 9 & 4 & 7 \\end{bmatrix}$$\n",
    "\n",
    "Here the feature vectors are transposed an represented as rows:\n",
    "- The first row corresponds to the first example $(\\textbf{x}^{(1)})^T$ and \n",
    "- The second row corresponds to the second example $(\\textbf{x}^{(2)})^T$.\n",
    "\n",
    "\n",
    "Once we add the dummy feature , the resulting matrix becomes:\n",
    "$$\\textbf{X}_{2\\times(3+1)} = \\begin{bmatrix} {-(x^{(1)})^T-} \\\\ {-(x^{(2)})^T-} \\end{bmatrix} = \\begin{bmatrix} 1 & 3 & 2 & 5 \\\\ 1 & 9 & 4 & 7 \\end{bmatrix}$$"
   ]
  },
  {
   "cell_type": "code",
   "execution_count": 10,
   "metadata": {},
   "outputs": [
    {
     "name": "stderr",
     "output_type": "stream",
     "text": [
      "test_add_dummy_feature (__main__.TestAddDummyFeature.test_add_dummy_feature)\n",
      "Test case function for add_dummy_feature ... ok\n",
      "\n",
      "----------------------------------------------------------------------\n",
      "Ran 1 test in 0.001s\n",
      "\n",
      "OK\n"
     ]
    },
    {
     "data": {
      "text/plain": [
       "<unittest.main.TestProgram at 0x7f60380e67b0>"
      ]
     },
     "execution_count": 10,
     "metadata": {},
     "output_type": "execute_result"
    }
   ],
   "source": [
    "import unittest\n",
    "\n",
    "class TestAddDummyFeature(unittest.TestCase):\n",
    "\n",
    "    def test_add_dummy_feature(self):\n",
    "        ''' Test case function for add_dummy_feature '''\n",
    "        train_matrix = np.array([[3, 4, 5],[9, 4, 7]])\n",
    "        train_matrix_with_dummy_feature = add_dummy_feature(train_matrix)\n",
    "\n",
    "        #Test the shape\n",
    "        self.assertEqual(train_matrix_with_dummy_feature.shape, (2,4))\n",
    "\n",
    "        #and the contents\n",
    "        np.testing.assert_array_equal(\n",
    "            train_matrix_with_dummy_feature, np.array([[1, 3, 4, 5],[1, 9, 4, 7]]))\n",
    "\n",
    "unittest.main(argv=[''], defaultTest='TestAddDummyFeature', verbosity=2, exit=False)"
   ]
  },
  {
   "cell_type": "code",
   "execution_count": 11,
   "metadata": {},
   "outputs": [
    {
     "data": {
      "text/plain": [
       "array([[1., 3., 2.],\n",
       "       [1., 5., 4.]])"
      ]
     },
     "execution_count": 11,
     "metadata": {},
     "output_type": "execute_result"
    }
   ],
   "source": [
    "add_dummy_feature(np.array([[3, 2],[5, 4]]))"
   ]
  },
  {
   "cell_type": "markdown",
   "metadata": {},
   "source": [
    "Let's preprocess the training set to add the dummy feature"
   ]
  },
  {
   "cell_type": "code",
   "execution_count": 12,
   "metadata": {},
   "outputs": [
    {
     "name": "stdout",
     "output_type": "stream",
     "text": [
      "Before adding the dummy feature:\n",
      " [ -3.70840327  15.43552856  13.96615884 -17.59543991  -3.26141924]\n",
      "\n",
      "\n",
      "After adding the dummy feature:\n",
      " [[  1.          -3.70840327]\n",
      " [  1.          15.43552856]\n",
      " [  1.          13.96615884]\n",
      " [  1.         -17.59543991]\n",
      " [  1.          -3.26141924]]\n"
     ]
    }
   ],
   "source": [
    "print('Before adding the dummy feature:\\n', X_train[:5])\n",
    "print(\"\\n\")\n",
    "\n",
    "X_train_with_dummy = add_dummy_feature(X_train)\n",
    "print('After adding the dummy feature:\\n', X_train_with_dummy[:5,:])"
   ]
  },
  {
   "cell_type": "markdown",
   "metadata": {},
   "source": [
    "## C2. Model"
   ]
  },
  {
   "cell_type": "code",
   "execution_count": 13,
   "metadata": {},
   "outputs": [
    {
     "data": {
      "text/plain": [
       "'Library import'"
      ]
     },
     "execution_count": 13,
     "metadata": {},
     "output_type": "execute_result"
    }
   ],
   "source": [
    "'''Library import'''"
   ]
  },
  {
   "cell_type": "markdown",
   "metadata": {},
   "source": [
    "### Quick Recap\n",
    "1. Training data contains features and label that is a real number\n",
    "2. Linear regression model uses linear combination of features to obtain output labels.In vectorized form Model or inference: $\\bf y=Xw$\n",
    "\n",
    "**Note**:\n",
    "- Model is paramterized by its weight vector.\n",
    "- It is described by its mathematical form and weight vector."
   ]
  },
  {
   "cell_type": "markdown",
   "metadata": {},
   "source": [
    "### Implementation\n",
    "The general vectorized form is as follows:\n",
    "$$\\textbf{y}_{(n\\times1)}=\\textbf{X}_{n\\times(m+1)}\\textbf{w}_{(m+1)\\times1}$$\n",
    "where\n",
    "- $n$ is the number of examples in dataset(train/test/validation).\n",
    "- $m$ is the number of features\n",
    "- $\\bf X$ is a feature matrix which contain $(m+1)$ features for $n$ examples along rows. (Notice capital case bold **X** used for matrix)\n",
    "- $\\bf w$ is a weight vector containing $(m+1)$ weights one for each feature. (Notice the small case bold **w**)\n",
    "- $\\bf y$ is a label vector containing labels of $n$ examples with shape $(n,)$."
   ]
  },
  {
   "cell_type": "code",
   "execution_count": 14,
   "metadata": {},
   "outputs": [],
   "source": [
    "def predict(X,w):\n",
    "    ''' Prediction of output label for a given input.\n",
    "    Args:\n",
    "        X: Feature matrix of shape (n, m+1).\n",
    "        w: weight vector of shape (m+1, n).\n",
    "    Returns:\n",
    "        y: Predicted label vector of shape (n,).\n",
    "    '''\n",
    "    # Check to make sure that feature matrix and weight vector  have compatible shapes.\n",
    "    #print(X.shape,w.shape)\n",
    "    assert X.shape[-1] == w.shape[0]\n",
    "    return X @ w"
   ]
  },
  {
   "cell_type": "markdown",
   "metadata": {},
   "source": [
    "We test this function with the following feature matrix $\\textbf{X}_{2\\times(3+1)}$\n",
    "$$\\textbf{X}_{2\\times4} = \\begin{bmatrix}\n",
    "    1 & 3 & 2 & 5 \\\\ 1 & 9 & 4 & 7\n",
    "\\end{bmatrix}$$\n",
    "and the weight vector $\\bf w$\n",
    "$$\\textbf{w}_{4\\times1} = \\begin{bmatrix}\n",
    "    1 \\\\ 1 \\\\ 1 \\\\ 1    \n",
    "\\end{bmatrix}$$\n",
    "Let's perform a matrix vector multiplication between feature matrix $\\bf X$ and the weight vector $\\bf w$ to obtain labels for all examples:\n",
    "$$\\begin{align*}\n",
    "    \\textbf{y} \n",
    "    &= \\textbf{Xw} \\\\\n",
    "    &= \\begin{bmatrix} 1 & 3 & 2 & 5 \\\\ 1 & 9 & 4 & 7 \\end{bmatrix} \\times \\begin{bmatrix} 1 \\\\ 1 \\\\ 1 \\\\ 1 \\end{bmatrix} \\\\\n",
    "    &= \\begin{bmatrix} {1\\times1+3\\times1+2\\times1+5\\times1} \\\\ {1\\times1+9\\times1+4\\times1+7\\times1} \\end{bmatrix} \\\\\n",
    "    &= \\begin{bmatrix} 11 \\\\ 21 \\end{bmatrix}\n",
    "\\end{align*}\n"
   ]
  },
  {
   "cell_type": "code",
   "execution_count": 15,
   "metadata": {},
   "outputs": [
    {
     "name": "stderr",
     "output_type": "stream",
     "text": [
      "test_predict (__main__.TestPredict.test_predict)\n",
      "Test case predict function of linear regression ... ok\n",
      "\n",
      "----------------------------------------------------------------------\n",
      "Ran 1 test in 0.001s\n",
      "\n",
      "OK\n"
     ]
    },
    {
     "data": {
      "text/plain": [
       "<unittest.main.TestProgram at 0x7f6037d1f390>"
      ]
     },
     "execution_count": 15,
     "metadata": {},
     "output_type": "execute_result"
    }
   ],
   "source": [
    "import unittest\n",
    "\n",
    "class TestPredict(unittest.TestCase):\n",
    "\n",
    "    def test_predict(self):\n",
    "        ''' Test case predict function of linear regression '''\n",
    "        # set up\n",
    "        train_matrix = np.array([[1,3,2,5],[1,9,4,7]])\n",
    "        weight_vector = np.array([1,1,1,1])\n",
    "        expected_label_vector = np.array([11,21])\n",
    "\n",
    "        #call\n",
    "        predicted_label_vector = predict(train_matrix, weight_vector)\n",
    "\n",
    "        #asserts\n",
    "        #test the shape\n",
    "        self.assertEqual(predicted_label_vector.shape,(2,))\n",
    "\n",
    "        #and the contents\n",
    "        np.testing.assert_array_equal(\n",
    "            expected_label_vector,predicted_label_vector)\n",
    "\n",
    "unittest.main(argv=[''], defaultTest='TestPredict', verbosity=2, exit=False)\n"
   ]
  },
  {
   "cell_type": "code",
   "execution_count": 16,
   "metadata": {},
   "outputs": [],
   "source": [
    "''' Preparing the dataset'''\n",
    "[w0,w1] = [4,3]\n",
    "n = 100\n",
    "x = 10*np.random.randn(n,)\n",
    "y = w0 + w1*x + np.random.randn(n,)\n",
    "\n"
   ]
  },
  {
   "cell_type": "code",
   "execution_count": 17,
   "metadata": {},
   "outputs": [
    {
     "name": "stdout",
     "output_type": "stream",
     "text": [
      "Shape of training feature matrix: (80, 2)\n",
      "Shape of training label vector: (80,)\n",
      "Shape of test feature matrix: (20, 2)\n",
      "Shape of test label matrix: (20,)\n"
     ]
    }
   ],
   "source": [
    "''' Preprocessing: Dummy feature and train-test-split'''\n",
    "X_with_dummy = add_dummy_feature(x)\n",
    "\n",
    "from sklearn.model_selection import train_test_split\n",
    "X_train, X_test, y_train, y_test = train_test_split(X_with_dummy, y, test_size=0.2, random_state=42)\n",
    "\n",
    "print('Shape of training feature matrix:', X_train.shape)\n",
    "print('Shape of training label vector:', y_train.shape)\n",
    "\n",
    "print('Shape of test feature matrix:', X_test.shape)\n",
    "print('Shape of test label matrix:', y_test.shape)"
   ]
  },
  {
   "cell_type": "markdown",
   "metadata": {},
   "source": [
    "Since we have not yet trained our model, let's use a random weight vector to get predictions from our model for a given dataset."
   ]
  },
  {
   "cell_type": "code",
   "execution_count": 18,
   "metadata": {},
   "outputs": [
    {
     "data": {
      "text/plain": [
       "array([0.5153733 , 0.20686153])"
      ]
     },
     "execution_count": 18,
     "metadata": {},
     "output_type": "execute_result"
    }
   ],
   "source": [
    "w = np.random.rand(2,)\n",
    "w"
   ]
  },
  {
   "cell_type": "code",
   "execution_count": 19,
   "metadata": {},
   "outputs": [],
   "source": [
    "y_hat = predict(X_train,w)"
   ]
  },
  {
   "cell_type": "markdown",
   "metadata": {},
   "source": [
    "Let's compare the prediction with actual value"
   ]
  },
  {
   "cell_type": "code",
   "execution_count": 20,
   "metadata": {},
   "outputs": [
    {
     "data": {
      "text/plain": [
       "array([-2.68230649, -2.50634755,  5.01262549,  1.07451807,  0.37188942,\n",
       "        1.57989027, -0.52234018,  0.91549391,  2.73709717,  1.36750572])"
      ]
     },
     "execution_count": 20,
     "metadata": {},
     "output_type": "execute_result"
    }
   ],
   "source": [
    "y_hat[:10]"
   ]
  },
  {
   "cell_type": "markdown",
   "metadata": {},
   "source": [
    "Actual labels are"
   ]
  },
  {
   "cell_type": "code",
   "execution_count": 21,
   "metadata": {},
   "outputs": [
    {
     "data": {
      "text/plain": [
       "array([-37.20249218, -17.11189712,  22.76186172,  48.44176238,\n",
       "        24.25142476, -10.95696155, -43.63897646,  -0.38976797,\n",
       "        37.32856002,  37.15101234])"
      ]
     },
     "execution_count": 21,
     "metadata": {},
     "output_type": "execute_result"
    }
   ],
   "source": [
    "y[:10]"
   ]
  },
  {
   "cell_type": "markdown",
   "metadata": {},
   "source": [
    "Since we use a random weight vector $\\bf w$ here, most of the predicted labels do not match the actual labels."
   ]
  },
  {
   "cell_type": "markdown",
   "metadata": {},
   "source": [
    "### Comparision of vectorized and non-vectorized version of inference."
   ]
  },
  {
   "cell_type": "code",
   "execution_count": 22,
   "metadata": {},
   "outputs": [],
   "source": [
    "def non_vectorized_predict(X,w):\n",
    "    '''Prediction of output for a given input.\n",
    "    Args:\n",
    "        X: Feature matrix of shape (n, m+1)\n",
    "        w: Weight vector of shape (m+1, n)\n",
    "    Returns:\n",
    "        y: Predicted label vector of shape (n, ).\n",
    "    '''\n",
    "    y = []\n",
    "    for i in range(0,X.shape[0]):\n",
    "        y_hat_i = 0\n",
    "        for j in range(0,X.shape[1]):\n",
    "            y_hat_i += X[i][j]*w[j]\n",
    "        y.append(y_hat_i)\n",
    "    return np.array(y)\n",
    "    "
   ]
  },
  {
   "cell_type": "markdown",
   "metadata": {},
   "source": [
    "Let's test this function with the same setup as vectorized implementation."
   ]
  },
  {
   "cell_type": "code",
   "execution_count": 23,
   "metadata": {},
   "outputs": [
    {
     "name": "stderr",
     "output_type": "stream",
     "text": [
      "test_predict_non_vectorized (__main__.TestPredictNonVectorized.test_predict_non_vectorized)\n",
      "Test case predict function of linear regression ... ok\n",
      "\n",
      "----------------------------------------------------------------------\n",
      "Ran 1 test in 0.001s\n",
      "\n",
      "OK\n"
     ]
    },
    {
     "data": {
      "text/plain": [
       "<unittest.main.TestProgram at 0x7f6037d1f890>"
      ]
     },
     "execution_count": 23,
     "metadata": {},
     "output_type": "execute_result"
    }
   ],
   "source": [
    "import unittest\n",
    "\n",
    "class TestPredictNonVectorized(unittest.TestCase):\n",
    "\n",
    "    def test_predict_non_vectorized(self):\n",
    "        '''Test case predict function of linear regression '''\n",
    "        #set up\n",
    "        train_matrix = np.array([[1,3,2,5],[1,9,4,7]])\n",
    "        weight_vector = np.array([1,1,1,1])\n",
    "        expected_label_vector = np.array([11,21])\n",
    "\n",
    "        #call\n",
    "        predicted_label_vector = non_vectorized_predict(train_matrix,weight_vector)\n",
    "\n",
    "        #asserts\n",
    "        #test the shape\n",
    "        self.assertEqual(predicted_label_vector.shape, (2,))\n",
    "\n",
    "        #and its contents\n",
    "        np.testing.assert_array_equal(\n",
    "            expected_label_vector, predicted_label_vector)\n",
    "\n",
    "unittest.main(argv=[''],defaultTest='TestPredictNonVectorized', verbosity=2, exit=False)"
   ]
  },
  {
   "cell_type": "markdown",
   "metadata": {},
   "source": [
    "lets compare run time of vectorized and non-vectorized versions on dataset with 100 examples."
   ]
  },
  {
   "cell_type": "code",
   "execution_count": 24,
   "metadata": {},
   "outputs": [
    {
     "name": "stdout",
     "output_type": "stream",
     "text": [
      "Total time incurred in the vectorized inference is 0.000088215 s\n",
      "Total time incurred in the non-vectorized inference is 0.000200510 s\n"
     ]
    }
   ],
   "source": [
    "import time\n",
    "\n",
    "start_time = time.time()\n",
    "y_hat_vectorized = predict(X_train,w)\n",
    "end_time = time.time()\n",
    "print('Total time incurred in the vectorized inference is %0.9f s'%(end_time-start_time))\n",
    "\n",
    "start_time = time.time()\n",
    "y_hat_non_vectorized = non_vectorized_predict(X_train,w)\n",
    "end_time = time.time()\n",
    "print('Total time incurred in the non-vectorized inference is %0.9f s'%(end_time-start_time))\n",
    "\n",
    "np.testing.assert_array_equal(y_hat_vectorized,y_hat_non_vectorized)"
   ]
  },
  {
   "cell_type": "code",
   "execution_count": 25,
   "metadata": {},
   "outputs": [
    {
     "name": "stdout",
     "output_type": "stream",
     "text": [
      "977.0\n"
     ]
    }
   ],
   "source": [
    "def loss(X,y,w):\n",
    "    e  = predict(X,w) - y\n",
    "    return 0.5*(np.transpose(e) @ e)\n",
    "\n",
    "X=np.array([[1,2,2,1],[1,1,3,2]])\n",
    "y=np.array([3,5])\n",
    "w=np.array([1,2,3,4])*2\n",
    "a=loss(X,y,w)\n",
    "print(a)"
   ]
  },
  {
   "cell_type": "markdown",
   "metadata": {},
   "source": [
    "#### Normal equation\n",
    "The weight vector is estimated by matrix multiplication of pseudo-inverse of feature matrix and label vector.\n",
    "\n",
    "The vectorized implementation is fairly straight forward.\n",
    "- We make use of ``np.linalg.pinv`` for calculating pseudo inverse of the feature matrix\n",
    "\n",
    "The equation is \n",
    "$$\n",
    "\\text{w} = (X^TX)^{-1} X^T y\n",
    "$$"
   ]
  },
  {
   "cell_type": "code",
   "execution_count": 26,
   "metadata": {},
   "outputs": [],
   "source": [
    "def normal_equation(X, y):\n",
    "    '''Estimates parameters of the linear regression model with normal equation\n",
    "    Args:\n",
    "        X: feature matrix for given inputs.\n",
    "        y: Actual label vector\n",
    "\n",
    "    Returns:\n",
    "        Weight vector\n",
    "    '''\n",
    "    return np.linalg.pinv(X) @ y"
   ]
  },
  {
   "cell_type": "markdown",
   "metadata": {},
   "source": [
    "We test this function with generated training set whose weight vector is known to us.\n",
    "- We setup the test with feature matrix, label vector and expected weight vectors\n",
    "- Next we estimate the weight vector with ``normal_equation`` function.\n",
    "- We test (a) shape and (ii) match between expected and estimated weight vectors. "
   ]
  },
  {
   "cell_type": "code",
   "execution_count": 27,
   "metadata": {},
   "outputs": [
    {
     "name": "stderr",
     "output_type": "stream",
     "text": [
      "test_normal_equation (__main__.TestNormalEquation.test_normal_equation)\n",
      "Test case for weight estimation for linear regression with normal equation method ... ok\n",
      "\n",
      "----------------------------------------------------------------------\n",
      "Ran 1 test in 0.006s\n",
      "\n",
      "OK\n"
     ]
    },
    {
     "data": {
      "text/plain": [
       "<unittest.main.TestProgram at 0x7f6037ca5a70>"
      ]
     },
     "execution_count": 27,
     "metadata": {},
     "output_type": "execute_result"
    }
   ],
   "source": [
    "import unittest\n",
    "\n",
    "class TestNormalEquation(unittest.TestCase):\n",
    "\n",
    "    def test_normal_equation(self):\n",
    "        '''\n",
    "        Test case for weight estimation for linear regression with normal equation method\n",
    "        '''\n",
    "\n",
    "        # set up\n",
    "        feature_matrix = X_train\n",
    "        label_vector = y_train\n",
    "        expected_weight_vector = np.array([4.,3.])\n",
    "\n",
    "        #call\n",
    "        estimated_weight_vector = normal_equation(feature_matrix,label_vector)\n",
    "\n",
    "        #asserts\n",
    "        #test the shape\n",
    "        self.assertEqual(estimated_weight_vector.shape, (2,))\n",
    "\n",
    "        #and the contents\n",
    "        np.testing.assert_array_almost_equal(estimated_weight_vector, expected_weight_vector,decimal=0)\n",
    "\n",
    "unittest.main(argv=[''],defaultTest='TestNormalEquation', verbosity=2, exit=False)"
   ]
  },
  {
   "cell_type": "markdown",
   "metadata": {},
   "source": [
    "### Gradient Descent(GD)\n",
    "GD is implemented as follows\n",
    "- Randomly initialize $w$ to 0.\n",
    "- Iterate until convergence:\n",
    "  - Calculate partial derivative of loss w.r.t weight vector\n",
    "  - Calculate new values of weights\n",
    "  - Update weights to new values simultaneously\n",
    "\n",
    "We use number of epochs as a convergence criteria in this implementation\n",
    "#### Partial derivative of loss function\n",
    "Let's first implement a function to calculate partial derivative of loss function, which is obtained with the following equation:\n",
    "$$\\bf \\frac{\\partial}{\\partial w}J(w) = X^T(Xw - y)$$\n",
    "The multiplication of transpose of feature matrix with the difference of predicted and actual label vectors."
   ]
  },
  {
   "cell_type": "code",
   "execution_count": 28,
   "metadata": {},
   "outputs": [],
   "source": [
    "def calculate_gradient(X,y,w):\n",
    "    '''Calculate gradients of loss function w.r.t weight vector on training set\n",
    "    Arguments:\n",
    "        X: Feature matrix for training data\n",
    "        y: label vector of training data\n",
    "        w: Weight vector\n",
    "\n",
    "    Returns:\n",
    "        A vector of gradients\n",
    "    '''\n",
    "    return np.transpose(X) @ (predict(X,w) - y)"
   ]
  },
  {
   "cell_type": "code",
   "execution_count": 29,
   "metadata": {},
   "outputs": [],
   "source": [
    "def update_weights(w, grad, lr):\n",
    "    ''' Updates the weights based on the gradient of the loss function.\n",
    "    Weight updates are carried out with the following formula:\n",
    "        w_new := w_old -lr*grad\n",
    "    Args:\n",
    "        1. w: weight vector\n",
    "        2. grad: gradient of loss w.r.t w\n",
    "        3. lr: learning rate\n",
    "    Returns:\n",
    "        Updated weight vector\n",
    "    '''\n",
    "    return (w - lr*grad)\n"
   ]
  },
  {
   "cell_type": "code",
   "execution_count": 30,
   "metadata": {},
   "outputs": [],
   "source": [
    "def gradient_descent(X:np.ndarray, y:np.ndarray, lr:float, num_epochs:int):\n",
    "    '''Estimates parameters of linear regression model through gradient descent.\n",
    "    Args:\n",
    "        X: feature matrix for training data.\n",
    "        y: label vector for training data\n",
    "        lr: learning rate\n",
    "        num_epochs: Number of training steps\n",
    "    Returns:\n",
    "        Weight vector: Final weight vector\n",
    "        Error vector across different iterations\n",
    "        Weight vectors across different iterations\n",
    "    '''\n",
    "    w_all = [] # All parameters across different iterations\n",
    "    err_all = [] # All errors across different iterations\n",
    "    \n",
    "    # Parameter vector initialized to [0,0]\n",
    "    w = np.zeros(X.shape[1])\n",
    "    # gradient descent loop\n",
    "    print()\n",
    "    for i in np.arange(0,num_epochs):\n",
    "        w_all.append(w)\n",
    "        err_all.append(loss(X=X,w=w,y=y))\n",
    "        dJdw = calculate_gradient(X=X,y=y,w=w)\n",
    "        if (i%100) == 0:\n",
    "            print('Iteration #: %d, loss: %4.2f'%(i, err_all[-1]))\n",
    "        w = update_weights(w=w,grad=dJdw,lr=lr)\n",
    "    return w, err_all, w_all"
   ]
  },
  {
   "cell_type": "code",
   "execution_count": 31,
   "metadata": {},
   "outputs": [
    {
     "name": "stderr",
     "output_type": "stream",
     "text": [
      "test_gradient_descent (__main__.TestGradientDescent.test_gradient_descent)\n",
      "Test case for weight estimation for linear regression with gradient descent ... "
     ]
    },
    {
     "name": "stdout",
     "output_type": "stream",
     "text": [
      "\n",
      "Iteration #: 0, loss: 35754.19\n",
      "Iteration #: 100, loss: 164.31\n",
      "Iteration #: 200, loss: 60.00\n",
      "Iteration #: 300, loss: 38.94\n",
      "Iteration #: 400, loss: 34.69\n",
      "Iteration #: 500, loss: 33.83\n",
      "Iteration #: 600, loss: 33.66\n",
      "Iteration #: 700, loss: 33.62\n",
      "Iteration #: 800, loss: 33.61\n",
      "Iteration #: 900, loss: 33.61\n",
      "Iteration #: 1000, loss: 33.61\n",
      "Iteration #: 1100, loss: 33.61\n",
      "Iteration #: 1200, loss: 33.61\n",
      "Iteration #: 1300, loss: 33.61\n",
      "Iteration #: 1400, loss: 33.61\n",
      "Iteration #: 1500, loss: 33.61\n",
      "Iteration #: 1600, loss: 33.61\n",
      "Iteration #: 1700, loss: 33.61\n",
      "Iteration #: 1800, loss: 33.61\n",
      "Iteration #: 1900, loss: 33.61\n"
     ]
    },
    {
     "name": "stderr",
     "output_type": "stream",
     "text": [
      "ok\n",
      "\n",
      "----------------------------------------------------------------------\n",
      "Ran 1 test in 0.018s\n",
      "\n",
      "OK\n"
     ]
    },
    {
     "data": {
      "text/plain": [
       "<unittest.main.TestProgram at 0x7f6037ca4d60>"
      ]
     },
     "execution_count": 31,
     "metadata": {},
     "output_type": "execute_result"
    }
   ],
   "source": [
    "class TestGradientDescent(unittest.TestCase):\n",
    "\n",
    "    def test_gradient_descent(self):\n",
    "        '''\n",
    "        Test case for weight estimation for linear regression with gradient descent\n",
    "        '''\n",
    "\n",
    "        #setup\n",
    "        feature_matrix = X_train\n",
    "        label_vector = y_train\n",
    "        expected_weights = np.array([4.,3.])\n",
    "\n",
    "        #call\n",
    "        w, err_all, w_all = gradient_descent(\n",
    "            feature_matrix, label_vector, lr=0.0001, num_epochs=2000)\n",
    "        self.assertEqual(w.shape, (2,))\n",
    "        \n",
    "        np.testing.assert_array_almost_equal(expected_weights, w, decimal=0)\n",
    "\n",
    "unittest.main(argv=[''], defaultTest='TestGradientDescent',verbosity=2,exit=False)"
   ]
  },
  {
   "cell_type": "markdown",
   "metadata": {},
   "source": [
    "### Mini-batch gradient descent (MBGD)\n",
    "The key idea is to perform weight updates by computing gradient on batches of small number of examples"
   ]
  },
  {
   "cell_type": "code",
   "execution_count": 32,
   "metadata": {},
   "outputs": [],
   "source": [
    "t0, t1 = 200, 100000\n",
    "def learning_schedule(t):\n",
    "    return t0/(t+t1)"
   ]
  },
  {
   "cell_type": "code",
   "execution_count": 33,
   "metadata": {},
   "outputs": [],
   "source": [
    "def mini_batch_gd(X:np.ndarray, y:np.ndarray, num_iters:int, minibatch_size:int):\n",
    "    w_all = []\n",
    "    err_all = []\n",
    "\n",
    "    w = np.zeros((X.shape[1]))\n",
    "    t=0\n",
    "\n",
    "    for epoch in range(num_iters):\n",
    "        shuffled_indices = np.random.permutation(X.shape[0])\n",
    "        X_shuffled = X[shuffled_indices]\n",
    "        y_shuffled = y[shuffled_indices]\n",
    "        for i in range(0, X.shape[0], minibatch_size):\n",
    "            t += 1\n",
    "            xi = X_shuffled[i:i+minibatch_size]\n",
    "            yi = y_shuffled[i:i+minibatch_size]\n",
    "            #print(xi.shape[-1] == w.shape[0])\n",
    "            err_all.append(loss(xi,yi,w))\n",
    "            \n",
    "            gradients = 2/minibatch_size * calculate_gradient(xi, yi, w)\n",
    "            lr = learning_schedule(t)\n",
    "            w = update_weights(w, gradients, lr)\n",
    "            w_all.append(w)\n",
    "    return w, err_all, w_all"
   ]
  },
  {
   "cell_type": "code",
   "execution_count": 34,
   "metadata": {},
   "outputs": [
    {
     "name": "stderr",
     "output_type": "stream",
     "text": [
      "test_minibatch_gd (__main__.TestMiniBatchGradientDescent.test_minibatch_gd)\n",
      "Test case for weight estimation for linear regression with gradient descent ... ok\n",
      "\n",
      "----------------------------------------------------------------------\n",
      "Ran 1 test in 0.029s\n",
      "\n",
      "OK\n"
     ]
    },
    {
     "data": {
      "text/plain": [
       "<unittest.main.TestProgram at 0x7f60380e17f0>"
      ]
     },
     "execution_count": 34,
     "metadata": {},
     "output_type": "execute_result"
    }
   ],
   "source": [
    "class TestMiniBatchGradientDescent(unittest.TestCase):\n",
    "\n",
    "    def test_minibatch_gd(self):\n",
    "        '''\n",
    "        Test case for weight estimation for linear regression with gradient descent\n",
    "        '''\n",
    "\n",
    "        #setup\n",
    "        feature_matrix = X_train\n",
    "        label_vector = y_train\n",
    "        expected_weights = np.array([4.,3.])\n",
    "\n",
    "        #call\n",
    "        w, err_all, w_all = mini_batch_gd(\n",
    "            feature_matrix, label_vector, num_iters=200, minibatch_size=8)\n",
    "        self.assertEqual(w.shape, (2,))\n",
    "        \n",
    "        np.testing.assert_array_almost_equal(expected_weights, w, decimal=0)\n",
    "\n",
    "unittest.main(argv=[''], defaultTest='TestMiniBatchGradientDescent',verbosity=2,exit=False)"
   ]
  },
  {
   "cell_type": "markdown",
   "metadata": {},
   "source": [
    "### Stochastic Gradient Descent (SGD)\n",
    "It is infact MBGD but with number of example per batch =1"
   ]
  },
  {
   "cell_type": "code",
   "execution_count": 35,
   "metadata": {},
   "outputs": [],
   "source": [
    "def sgd(X:np.ndarray, y:np.ndarray, num_epochs:int):\n",
    "    w_all = []\n",
    "    err_all = []\n",
    "\n",
    "    w = np.zeros((X.shape[1]))\n",
    "    t=0\n",
    "\n",
    "    for epoch in range(num_epochs):\n",
    "        for i in range(X.shape[0]):\n",
    "            random_index = np.random.randint(X.shape[0])\n",
    "            xi = X[random_index:random_index+1]\n",
    "            yi = y[random_index:random_index+1]\n",
    "            err_all.append(loss(xi, yi, w))\n",
    "\n",
    "            gradients = 2 * calculate_gradient(xi, yi, w)\n",
    "            lr = learning_schedule(epoch * X.shape[0] + i)\n",
    "            w = update_weights(w, gradients, lr)\n",
    "            w_all.append(w)\n",
    "    return w, err_all, w_all"
   ]
  },
  {
   "cell_type": "code",
   "execution_count": 36,
   "metadata": {},
   "outputs": [
    {
     "name": "stderr",
     "output_type": "stream",
     "text": [
      "test_sgd (__main__.TestStochasticGradientDescent.test_sgd)\n",
      "Test case for weight estimation for linear regression with gradient descent ... ok\n",
      "\n",
      "----------------------------------------------------------------------\n",
      "Ran 1 test in 0.158s\n",
      "\n",
      "OK\n"
     ]
    },
    {
     "data": {
      "text/plain": [
       "<unittest.main.TestProgram at 0x7f60380c5d00>"
      ]
     },
     "execution_count": 36,
     "metadata": {},
     "output_type": "execute_result"
    }
   ],
   "source": [
    "class TestStochasticGradientDescent(unittest.TestCase):\n",
    "\n",
    "    def test_sgd(self):\n",
    "        '''\n",
    "        Test case for weight estimation for linear regression with gradient descent\n",
    "        '''\n",
    "\n",
    "        #setup\n",
    "        feature_matrix = X_train\n",
    "        label_vector = y_train\n",
    "        expected_weights = np.array([4.,3.])\n",
    "\n",
    "        #call\n",
    "        w, err_all, w_all = sgd(\n",
    "            feature_matrix, label_vector, 200)\n",
    "        self.assertEqual(w.shape, (2,))\n",
    "        \n",
    "        np.testing.assert_array_almost_equal(expected_weights, w, decimal=0)\n",
    "\n",
    "unittest.main(argv=[''], defaultTest='TestStochasticGradientDescent',verbosity=2,exit=False)"
   ]
  },
  {
   "cell_type": "markdown",
   "metadata": {},
   "source": [
    "### Linear Regression: combining all components\n",
    "This part combines all the functions and components we implemented in the previous lectures."
   ]
  },
  {
   "cell_type": "code",
   "execution_count": 37,
   "metadata": {},
   "outputs": [],
   "source": [
    "from IPython.display import display, Math, Latex\n",
    "\n",
    "import numpy as np\n",
    "import matplotlib.pyplot as plt\n",
    "import seaborn as sns\n",
    "\n",
    "%matplotlib inline"
   ]
  },
  {
   "cell_type": "markdown",
   "metadata": {},
   "source": [
    "Let's combine implementations of different components of Linear Regression that we implemented so far into a single ``LinearRegression``."
   ]
  },
  {
   "cell_type": "code",
   "execution_count": 38,
   "metadata": {},
   "outputs": [],
   "source": [
    "class LinReg(object):\n",
    "    '''\n",
    "    Linear Regression model\n",
    "    -----------------------\n",
    "    y = X @ w\n",
    "    X: A feature matrix\n",
    "    w: weight vector\n",
    "    y: label vector\n",
    "    '''\n",
    "\n",
    "    def __init__(self):\n",
    "        self.t0 = 200\n",
    "        self.t1 = 100000\n",
    "    \n",
    "    def predict(self , X:np.ndarray) -> np.ndarray:\n",
    "        '''\n",
    "        Prediction of output label for a given input.\n",
    "\n",
    "        Args:\n",
    "            X: Feature matrix for given inputs.\n",
    "        Returns:\n",
    "            y: Output vector as predicted by the given model.\n",
    "        '''\n",
    "        y = x @ self.w\n",
    "        return y\n",
    "    \n",
    "    def loss(self, X: np.ndarray, y: np.ndarray) -> float:\n",
    "        '''\n",
    "        Calculate the loss for a model based on known labels\n",
    "\n",
    "        Args:\n",
    "            X: Feature matrix for given inputs.\n",
    "            y: Output label vector as predicted by the given model.\n",
    "        Returns:\n",
    "            Loss\n",
    "        '''\n",
    "\n",
    "        e = y - self.predict(X)\n",
    "        return 0.5* (np.transpose(e)) @ e\n",
    "    \n",
    "    def rmse (self, X: np.ndarray, y: np.ndarray) -> float:\n",
    "        '''\n",
    "        Calculate the root mean squared error of predictions w.r.t actual label.\n",
    "\n",
    "        Args:\n",
    "            X: Feature matrix for given inputs.\n",
    "            y: Output label vector as predicted by the given model\n",
    "        Returns:\n",
    "            Loss\n",
    "        '''\n",
    "        return np.sqrt((2/X.shape[0])) * self.loss(X,y)\n",
    "    \n",
    "\n",
    "    def fit (self, X: np.ndarray, y: np.ndarray) -> np.ndarray:\n",
    "        '''\n",
    "        Estimates the parameters of the linear regression model with normal equation\n",
    "\n",
    "        Args:\n",
    "            X: Feature matrix for given inputs.\n",
    "            y: Output label vector as predicted by the given model\n",
    "        Returns:\n",
    "            weight vector\n",
    "        '''\n",
    "        self.w = np.linalg.pinv(X) @ y\n",
    "        return self.w\n",
    "    \n",
    "\n",
    "    def calculate_gradient(self, X: np.ndarray, y: np.ndarray) -> np.ndarray:\n",
    "        '''\n",
    "        Calculates gradients of loss function w.r.t weight vector on training set.\n",
    "        Args:\n",
    "            X: Feature matrix for given inputs.\n",
    "            y: Output label vector as predicted by the given model\n",
    "        Returns:\n",
    "            a vector of gradients.\n",
    "        '''\n",
    "        return np.transpose(X) @ (self.predict(X) - y)\n",
    "    \n",
    "    def update_weights (self, grad:np.ndarray, lr: float) -> np.ndarray:\n",
    "        '''\n",
    "        Updates the weights based on the gradient of the loss function.\n",
    "\n",
    "        Weight updates are carried out with the following formula:\n",
    "            w_new := w_old - lr * grad\n",
    "        Args:\n",
    "            1. w: weight vector\n",
    "            2. grad: gradient of loss w.r.t w\n",
    "            3. lr: learning rate\n",
    "        Returns:\n",
    "            Updated weight vector\n",
    "        '''\n",
    "        return (self.w - lr * grad)\n",
    "\n",
    "    def learning_schedule(self, t):\n",
    "        return self.t0 / (t + self.t1)\n",
    "    \n",
    "    def gd(self, X: np.ndarray, y:np.ndarray, num_epochs:int, lr:float) -> np.ndarray:\n",
    "        '''\n",
    "        Estimates the parameters of linear regression model through gradient descent\n",
    "\n",
    "        Args:\n",
    "            X: Feature matrix for training data\n",
    "            y: Label vector for training data\n",
    "            num_epochs: Number of training steps\n",
    "            lr: learning rate\n",
    "\n",
    "        Returns:\n",
    "            Weight vector: Final weight vector\n",
    "        '''\n",
    "        self.w = np.zeros((X.shape[1]))\n",
    "        self.w_all = []\n",
    "        self.err_all = []\n",
    "        for i in np.arange(0,num_epochs):\n",
    "            dJdw = self.calculate_gradient(X, y)\n",
    "            self.w_all.append(self.w)\n",
    "            self.err_all.append(self.loss(X,y))\n",
    "            self.w = self.update_weights(dJdw, lr)\n",
    "        return self.w\n",
    "    \n",
    "    def mbgd (self, X:np.ndarray, y:np.ndarray, num_epochs:int, batch_size:int) -> np.ndarray:\n",
    "        '''\n",
    "        Estimates the parameters of linear regression model through gradient descent\n",
    "\n",
    "        Args:\n",
    "            X: Feature matrix for training data\n",
    "            y: Label vector for training data\n",
    "            num_epochs: Number of training steps\n",
    "            batch_size: Number of examples in a batch\n",
    "\n",
    "        Returns:\n",
    "            Weight vector: Final weight vector\n",
    "        '''\n",
    "        self.w = np.zeros((X.shape[1]))\n",
    "        self.w_all = []\n",
    "        self.err_all = []\n",
    "        mini_batch_id = 0\n",
    "\n",
    "        for epoch in range(num_epochs):\n",
    "            shuffled_indices = np.random.permutation(X.shap[0])\n",
    "            X_shuffled = X[shuffled_indices]\n",
    "            y_shuffled = y[shuffled_indices]\n",
    "\n",
    "            for i in range(0, X.shape[0], batch_size):\n",
    "                mini_batch_id += 1\n",
    "                xi = X_shuffled[i: i+batch_size]\n",
    "                yi = y_shuffled[i: i+batch_size]\n",
    "                self.w_all.append(self.w)\n",
    "                self.err_all.append(self.loss(xi, yi))\n",
    "\n",
    "                dJdw = 2/batch_size * self.calculate_gradient(xi, yi)\n",
    "                self.w = self.update_weights(dJdw, self.learning_schedule(mini_batch_id))\n",
    "            \n",
    "        return self.w\n",
    "    \n",
    "    def sgd (self, X: np.ndarray, y:np.ndarray, num_epochs:int) -> np.ndarray:\n",
    "        '''\n",
    "        Estimates the parameters of linear regression model through gradient descent\n",
    "\n",
    "        Args:\n",
    "            X: Feature matrix for training data\n",
    "            y: Label vector for training data\n",
    "            num_epochs: Number of training steps\n",
    "            batch_size: Number of examples in a batch\n",
    "\n",
    "        Returns:\n",
    "            Weight vector: Final weight vector\n",
    "        '''\n",
    "        self.w = np.zeros((X.shape[1]))\n",
    "        self.w_all = []\n",
    "        self.err_all = []\n",
    "        \n",
    "        for epoch in range(num_epochs):\n",
    "            for i in range(X.shape[0]):\n",
    "                random_index = np.random.randint(X.shape[0])\n",
    "                xi = X[random_index:random_index+1]\n",
    "                yi = y[random_index:random_index+1]\n",
    "\n",
    "                self.w_all.append(self.w)\n",
    "                self.err_all.append(self.loss(xi,yi))\n",
    "\n",
    "                gradients = 2 * self.calculate_gradient(xi, yi)\n",
    "                lr = self.learning_schedule(epoch * X.shape[0] +i)\n",
    "                self.w = self.update_weights(gradients, lr)\n",
    "        \n",
    "        return self.w"
   ]
  }
 ],
 "metadata": {
  "kernelspec": {
   "display_name": "ML",
   "language": "python",
   "name": "python3"
  },
  "language_info": {
   "codemirror_mode": {
    "name": "ipython",
    "version": 3
   },
   "file_extension": ".py",
   "mimetype": "text/x-python",
   "name": "python",
   "nbconvert_exporter": "python",
   "pygments_lexer": "ipython3",
   "version": "3.13.5"
  },
  "orig_nbformat": 4
 },
 "nbformat": 4,
 "nbformat_minor": 2
}
